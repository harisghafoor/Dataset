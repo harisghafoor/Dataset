{
  "nbformat": 4,
  "nbformat_minor": 0,
  "metadata": {
    "colab": {
      "name": "News Classification Haris.ipynb",
      "provenance": [],
      "collapsed_sections": [
        "IwZmcwLrXBmY",
        "QgBcKjoaS4cA"
      ],
      "authorship_tag": "ABX9TyN1HQOkP8Filt2p9LlMI1de",
      "include_colab_link": true
    },
    "kernelspec": {
      "name": "python3",
      "display_name": "Python 3"
    },
    "language_info": {
      "name": "python"
    }
  },
  "cells": [
    {
      "cell_type": "markdown",
      "metadata": {
        "id": "view-in-github",
        "colab_type": "text"
      },
      "source": [
        "<a href=\"https://colab.research.google.com/github/harisghafoor/Dataset/blob/main/News_Classification_Haris.ipynb\" target=\"_parent\"><img src=\"https://colab.research.google.com/assets/colab-badge.svg\" alt=\"Open In Colab\"/></a>"
      ]
    },
    {
      "cell_type": "markdown",
      "source": [
        "# Introduction:\n",
        "In this project, we are going to predict the category of news article by using NLP techniques. We started off from cleaning the dataset and pre-processing the feature space. In EDA, we found the word length of each article to gain some insights and then we found the most repititive word and their importance in the articles using word-cloud. The word embedding technique also play very important role and as instructed we employed TF-IDF technique for converting text into integers. Then we built different predictive models and trained our dataset. Evaluation metrics play very important role because of the nature of dataset. As we can see in the EDA that our dataset is highly imbalanced so we cant use classification accuracy but we will use confusion matrix and classification report in order to evaluate the dataset. Our best performing models are Decision Trees,xGBclassifier and Multinomial Naive Bayes. "
      ],
      "metadata": {
        "id": "BkF1gJ6BubsZ"
      }
    },
    {
      "cell_type": "markdown",
      "source": [
        "# Part 1: Pre-Processing of Dataset "
      ],
      "metadata": {
        "id": "z6c_XlcOz2Ia"
      }
    },
    {
      "cell_type": "markdown",
      "source": [
        "### Importing the Libraries"
      ],
      "metadata": {
        "id": "04a3-LOiuxly"
      }
    },
    {
      "cell_type": "code",
      "source": [
        "import pandas as pd\n",
        "import matplotlib.pyplot as plt\n",
        "import pickle\n",
        "import seaborn as sns\n",
        "import nltk\n",
        "from nltk.corpus import stopwords\n",
        "nltk.download('stopwords')\n",
        "nltk.download('punkt')\n",
        "from wordcloud import WordCloud ,STOPWORDS\n",
        "from nltk.stem import WordNetLemmatizer\n",
        "from sklearn.feature_extraction.text import TfidfVectorizer\n",
        "from sklearn.model_selection import train_test_split\n",
        "from sklearn.metrics import accuracy_score, classification_report\n",
        "from sklearn.metrics import confusion_matrix\n",
        "from sklearn.linear_model import LogisticRegression\n",
        "from sklearn.tree import DecisionTreeClassifier\n",
        "from sklearn.neighbors import KNeighborsClassifier\n",
        "from sklearn.discriminant_analysis import LinearDiscriminantAnalysis\n",
        "from sklearn.naive_bayes import GaussianNB\n",
        "from sklearn.svm import SVC\n",
        "from sklearn import svm\n",
        "from sklearn.naive_bayes import MultinomialNB\n",
        "from sklearn.ensemble import AdaBoostClassifier, GradientBoostingClassifier\n",
        "import xgboost \n",
        "from sklearn import metrics\n",
        "import time\n",
        "from nltk.tokenize import word_tokenize \n",
        "import re\n",
        "import warnings\n",
        "warnings.filterwarnings(\"ignore\")"
      ],
      "metadata": {
        "colab": {
          "base_uri": "https://localhost:8080/"
        },
        "id": "9MxMsA5xiklh",
        "outputId": "9421adb2-6bab-44b3-c27c-b17ce6762824"
      },
      "execution_count": 59,
      "outputs": [
        {
          "output_type": "stream",
          "name": "stdout",
          "text": [
            "[nltk_data] Downloading package stopwords to /root/nltk_data...\n",
            "[nltk_data]   Package stopwords is already up-to-date!\n",
            "[nltk_data] Downloading package punkt to /root/nltk_data...\n",
            "[nltk_data]   Package punkt is already up-to-date!\n"
          ]
        }
      ]
    },
    {
      "cell_type": "markdown",
      "source": [
        "### Importing the Dataset from local Repository"
      ],
      "metadata": {
        "id": "IwZmcwLrXBmY"
      }
    },
    {
      "cell_type": "code",
      "source": [
        "!git clone https://github.com/harisghafoor/Dataset.git"
      ],
      "metadata": {
        "colab": {
          "base_uri": "https://localhost:8080/"
        },
        "id": "MrbiSNIrJB7s",
        "outputId": "f4e5cc5c-36c4-4b96-d13e-fc8650b831db"
      },
      "execution_count": null,
      "outputs": [
        {
          "output_type": "stream",
          "name": "stdout",
          "text": [
            "Cloning into 'Dataset'...\n",
            "remote: Enumerating objects: 6, done.\u001b[K\n",
            "remote: Counting objects: 100% (6/6), done.\u001b[K\n",
            "remote: Compressing objects: 100% (5/5), done.\u001b[K\n",
            "remote: Total 6 (delta 1), reused 0 (delta 0), pack-reused 0\u001b[K\n",
            "Unpacking objects: 100% (6/6), done.\n"
          ]
        }
      ]
    },
    {
      "cell_type": "markdown",
      "source": [
        "### Loading the Dataset"
      ],
      "metadata": {
        "id": "4w7dy5y4XINi"
      }
    },
    {
      "cell_type": "code",
      "source": [
        "df=pd.read_csv(\"Dataset/Huff_news.csv\")\n",
        "df.head()"
      ],
      "metadata": {
        "id": "DCdWaomkIZfd"
      },
      "execution_count": null,
      "outputs": []
    },
    {
      "cell_type": "markdown",
      "source": [
        "### Merging the Short Description and Headline"
      ],
      "metadata": {
        "id": "nmFlqD60XM4a"
      }
    },
    {
      "cell_type": "markdown",
      "source": [
        "As instructed we merge these two features to make a new feature so now we dont need to handle the missing values of short description column due to merging with the title."
      ],
      "metadata": {
        "id": "vSmr5tId0EPM"
      }
    },
    {
      "cell_type": "code",
      "source": [
        "df[\"text_all\"]=df[\"headline\"].astype(str)+ \" \"+df[\"short_description\"].astype(str)\n",
        "df.head()"
      ],
      "metadata": {
        "id": "ke5VY7luKwgb"
      },
      "execution_count": null,
      "outputs": []
    },
    {
      "cell_type": "markdown",
      "source": [
        "### Feature Engineering:\n",
        "We dont want to make our model complex so we will drop the columns which dont have any essential impact on the target variable. For example, the author name,date and link are not important so we will drop these features."
      ],
      "metadata": {
        "id": "6IQdRej7XX06"
      }
    },
    {
      "cell_type": "code",
      "source": [
        "df.drop(['Unnamed: 0','headline','link','authors','short_description','date'],axis=1,inplace=True)\n",
        "df.head()"
      ],
      "metadata": {
        "colab": {
          "base_uri": "https://localhost:8080/",
          "height": 206
        },
        "id": "MhGXY6AgLsVj",
        "outputId": "20f4da25-9d8d-42a2-f56a-9998ca574672"
      },
      "execution_count": null,
      "outputs": [
        {
          "output_type": "execute_result",
          "data": {
            "text/plain": [
              "    category                                           text_all\n",
              "0      MEDIA  HuffPost's DC Chief Responds To Obama's Warnin...\n",
              "1   RELIGION            Sexism: The Original Sin Of The Church \n",
              "2  GOOD NEWS  Banksy Exhibit Inspires Ex-Drug Addict To Chan...\n",
              "3       ARTS                                Spirit of the Hawk \n",
              "4     COMEDY  The Surprising Use for Big Lots Reward Cards D..."
            ],
            "text/html": [
              "\n",
              "  <div id=\"df-6d7ce222-ff52-4505-8ab4-9d97eef99756\">\n",
              "    <div class=\"colab-df-container\">\n",
              "      <div>\n",
              "<style scoped>\n",
              "    .dataframe tbody tr th:only-of-type {\n",
              "        vertical-align: middle;\n",
              "    }\n",
              "\n",
              "    .dataframe tbody tr th {\n",
              "        vertical-align: top;\n",
              "    }\n",
              "\n",
              "    .dataframe thead th {\n",
              "        text-align: right;\n",
              "    }\n",
              "</style>\n",
              "<table border=\"1\" class=\"dataframe\">\n",
              "  <thead>\n",
              "    <tr style=\"text-align: right;\">\n",
              "      <th></th>\n",
              "      <th>category</th>\n",
              "      <th>text_all</th>\n",
              "    </tr>\n",
              "  </thead>\n",
              "  <tbody>\n",
              "    <tr>\n",
              "      <th>0</th>\n",
              "      <td>MEDIA</td>\n",
              "      <td>HuffPost's DC Chief Responds To Obama's Warnin...</td>\n",
              "    </tr>\n",
              "    <tr>\n",
              "      <th>1</th>\n",
              "      <td>RELIGION</td>\n",
              "      <td>Sexism: The Original Sin Of The Church</td>\n",
              "    </tr>\n",
              "    <tr>\n",
              "      <th>2</th>\n",
              "      <td>GOOD NEWS</td>\n",
              "      <td>Banksy Exhibit Inspires Ex-Drug Addict To Chan...</td>\n",
              "    </tr>\n",
              "    <tr>\n",
              "      <th>3</th>\n",
              "      <td>ARTS</td>\n",
              "      <td>Spirit of the Hawk</td>\n",
              "    </tr>\n",
              "    <tr>\n",
              "      <th>4</th>\n",
              "      <td>COMEDY</td>\n",
              "      <td>The Surprising Use for Big Lots Reward Cards D...</td>\n",
              "    </tr>\n",
              "  </tbody>\n",
              "</table>\n",
              "</div>\n",
              "      <button class=\"colab-df-convert\" onclick=\"convertToInteractive('df-6d7ce222-ff52-4505-8ab4-9d97eef99756')\"\n",
              "              title=\"Convert this dataframe to an interactive table.\"\n",
              "              style=\"display:none;\">\n",
              "        \n",
              "  <svg xmlns=\"http://www.w3.org/2000/svg\" height=\"24px\"viewBox=\"0 0 24 24\"\n",
              "       width=\"24px\">\n",
              "    <path d=\"M0 0h24v24H0V0z\" fill=\"none\"/>\n",
              "    <path d=\"M18.56 5.44l.94 2.06.94-2.06 2.06-.94-2.06-.94-.94-2.06-.94 2.06-2.06.94zm-11 1L8.5 8.5l.94-2.06 2.06-.94-2.06-.94L8.5 2.5l-.94 2.06-2.06.94zm10 10l.94 2.06.94-2.06 2.06-.94-2.06-.94-.94-2.06-.94 2.06-2.06.94z\"/><path d=\"M17.41 7.96l-1.37-1.37c-.4-.4-.92-.59-1.43-.59-.52 0-1.04.2-1.43.59L10.3 9.45l-7.72 7.72c-.78.78-.78 2.05 0 2.83L4 21.41c.39.39.9.59 1.41.59.51 0 1.02-.2 1.41-.59l7.78-7.78 2.81-2.81c.8-.78.8-2.07 0-2.86zM5.41 20L4 18.59l7.72-7.72 1.47 1.35L5.41 20z\"/>\n",
              "  </svg>\n",
              "      </button>\n",
              "      \n",
              "  <style>\n",
              "    .colab-df-container {\n",
              "      display:flex;\n",
              "      flex-wrap:wrap;\n",
              "      gap: 12px;\n",
              "    }\n",
              "\n",
              "    .colab-df-convert {\n",
              "      background-color: #E8F0FE;\n",
              "      border: none;\n",
              "      border-radius: 50%;\n",
              "      cursor: pointer;\n",
              "      display: none;\n",
              "      fill: #1967D2;\n",
              "      height: 32px;\n",
              "      padding: 0 0 0 0;\n",
              "      width: 32px;\n",
              "    }\n",
              "\n",
              "    .colab-df-convert:hover {\n",
              "      background-color: #E2EBFA;\n",
              "      box-shadow: 0px 1px 2px rgba(60, 64, 67, 0.3), 0px 1px 3px 1px rgba(60, 64, 67, 0.15);\n",
              "      fill: #174EA6;\n",
              "    }\n",
              "\n",
              "    [theme=dark] .colab-df-convert {\n",
              "      background-color: #3B4455;\n",
              "      fill: #D2E3FC;\n",
              "    }\n",
              "\n",
              "    [theme=dark] .colab-df-convert:hover {\n",
              "      background-color: #434B5C;\n",
              "      box-shadow: 0px 1px 3px 1px rgba(0, 0, 0, 0.15);\n",
              "      filter: drop-shadow(0px 1px 2px rgba(0, 0, 0, 0.3));\n",
              "      fill: #FFFFFF;\n",
              "    }\n",
              "  </style>\n",
              "\n",
              "      <script>\n",
              "        const buttonEl =\n",
              "          document.querySelector('#df-6d7ce222-ff52-4505-8ab4-9d97eef99756 button.colab-df-convert');\n",
              "        buttonEl.style.display =\n",
              "          google.colab.kernel.accessAllowed ? 'block' : 'none';\n",
              "\n",
              "        async function convertToInteractive(key) {\n",
              "          const element = document.querySelector('#df-6d7ce222-ff52-4505-8ab4-9d97eef99756');\n",
              "          const dataTable =\n",
              "            await google.colab.kernel.invokeFunction('convertToInteractive',\n",
              "                                                     [key], {});\n",
              "          if (!dataTable) return;\n",
              "\n",
              "          const docLinkHtml = 'Like what you see? Visit the ' +\n",
              "            '<a target=\"_blank\" href=https://colab.research.google.com/notebooks/data_table.ipynb>data table notebook</a>'\n",
              "            + ' to learn more about interactive tables.';\n",
              "          element.innerHTML = '';\n",
              "          dataTable['output_type'] = 'display_data';\n",
              "          await google.colab.output.renderOutput(dataTable, element);\n",
              "          const docLink = document.createElement('div');\n",
              "          docLink.innerHTML = docLinkHtml;\n",
              "          element.appendChild(docLink);\n",
              "        }\n",
              "      </script>\n",
              "    </div>\n",
              "  </div>\n",
              "  "
            ]
          },
          "metadata": {},
          "execution_count": 14
        }
      ]
    },
    {
      "cell_type": "markdown",
      "source": [
        "# Part 2:  Exploratory data analysis"
      ],
      "metadata": {
        "id": "QgBcKjoaS4cA"
      }
    },
    {
      "cell_type": "code",
      "source": [
        "df.dtypes  # Checking the data types of the variables"
      ],
      "metadata": {
        "colab": {
          "base_uri": "https://localhost:8080/"
        },
        "id": "H4A4MAw3S4HZ",
        "outputId": "02e24d4c-10cc-45ec-c312-0261e613124b"
      },
      "execution_count": null,
      "outputs": [
        {
          "output_type": "execute_result",
          "data": {
            "text/plain": [
              "category    object\n",
              "text_all    object\n",
              "dtype: object"
            ]
          },
          "metadata": {},
          "execution_count": 22
        }
      ]
    },
    {
      "cell_type": "markdown",
      "source": [
        "Analyzing the no of artilces of each category in our dataset."
      ],
      "metadata": {
        "id": "rd7CeohX32dp"
      }
    },
    {
      "cell_type": "code",
      "source": [
        "labels = df.groupby('category')\n",
        "print(\"total categories:\", labels.ngroups)\n",
        "print(labels.size())"
      ],
      "metadata": {
        "colab": {
          "base_uri": "https://localhost:8080/"
        },
        "id": "vwGUJT6WU8M3",
        "outputId": "3476be6d-2879-4bf9-d4bf-2c924373e9cf"
      },
      "execution_count": null,
      "outputs": [
        {
          "output_type": "stream",
          "name": "stdout",
          "text": [
            "total categories: 27\n",
            "category\n",
            "ARTS               879\n",
            "BLACK VOICES       435\n",
            "BUSINESS          1468\n",
            "COLLEGE            426\n",
            "COMEDY             639\n",
            "CRIME              542\n",
            "EDUCATION          361\n",
            "ENTERTAINMENT     2172\n",
            "FIFTY              729\n",
            "GOOD NEWS          340\n",
            "GREEN              881\n",
            "HEALTHY LIVING    2245\n",
            "IMPACT            1070\n",
            "LATINO VOICES      136\n",
            "MEDIA              528\n",
            "PARENTS           1043\n",
            "POLITICS          3539\n",
            "QUEER VOICES       899\n",
            "RELIGION           901\n",
            "SCIENCE            389\n",
            "SPORTS             809\n",
            "STYLE              603\n",
            "TASTE              582\n",
            "TRAVEL             787\n",
            "WEIRD NEWS         361\n",
            "WOMEN              832\n",
            "WORLDPOST         1404\n",
            "dtype: int64\n"
          ]
        }
      ]
    },
    {
      "cell_type": "code",
      "source": [
        "df.isnull().any() # Checking the missing values"
      ],
      "metadata": {
        "colab": {
          "base_uri": "https://localhost:8080/"
        },
        "id": "vZ1EZrqIets7",
        "outputId": "ca81cd63-16e4-4971-d19c-a4335aa142fd"
      },
      "execution_count": null,
      "outputs": [
        {
          "output_type": "execute_result",
          "data": {
            "text/plain": [
              "category    False\n",
              "text_all    False\n",
              "dtype: bool"
            ]
          },
          "metadata": {},
          "execution_count": 20
        }
      ]
    },
    {
      "cell_type": "code",
      "source": [
        "import seaborn as sns\n",
        "import matplotlib.pyplot as plt\n",
        "fig, ax = plt.subplots(figsize=(24, 10))  \n",
        "# drawing the plot\n",
        "sns.countplot(df.category)\n",
        "plt.show()\n"
      ],
      "metadata": {
        "colab": {
          "base_uri": "https://localhost:8080/",
          "height": 414
        },
        "id": "wD0ZaHw-e0ol",
        "outputId": "b67c66b7-dd49-4ec9-b9e4-eb4d2e231158"
      },
      "execution_count": null,
      "outputs": [
        {
          "output_type": "display_data",
          "data": {
            "text/plain": [
              "<Figure size 1728x720 with 1 Axes>"
            ],
            "image/png": "[encoded data removed]"
          },
          "metadata": {
            "needs_background": "light"
          }
        }
      ]
    },
    {
      "cell_type": "markdown",
      "source": [
        "As we can see in the above plot that data is highly imbalanced . So we need to use proper evaluation metrics. We have the option of upsampling the dataset by SMOTE but according to the literature review, upsampling will overfit the data and will destroy the generealization of our models on valuation sets."
      ],
      "metadata": {
        "id": "kz5z99e64D-A"
      }
    },
    {
      "cell_type": "markdown",
      "source": [
        "### Wordcloud\n",
        "We will see the important and popular words in our dataset and visualize them using library wordcloud."
      ],
      "metadata": {
        "id": "FBRU_RwnET3H"
      }
    },
    {
      "cell_type": "code",
      "source": [
        "text = \" \".join(df.Text_processed)\n",
        "wordcloud = WordCloud().generate(text)\n",
        "plt.figure()\n",
        "plt.subplots(figsize=(20,12))\n",
        "wordcloud = WordCloud(\n",
        "    background_color=\"white\",\n",
        "    max_words=len(text),\n",
        "    max_font_size=40,\n",
        "    relative_scaling=.5).generate(text)\n",
        "plt.imshow(wordcloud)\n",
        "plt.axis(\"off\")\n",
        "plt.show()"
      ],
      "metadata": {
        "id": "qxex7MNiETnf"
      },
      "execution_count": null,
      "outputs": []
    },
    {
      "cell_type": "markdown",
      "source": [
        "### Cleaning the Dataset\n",
        "First we will remove all the unwanted spaces, punctuation, numbers and special characters using the fucntion made by [(https://github.com/DiveshRKubal)]. We downloaded the stopwords from library nltk and tokenize our text."
      ],
      "metadata": {
        "id": "ed1c9MbBZK0Q"
      }
    },
    {
      "cell_type": "code",
      "source": [
        "def process_text(text):\n",
        "    text = text.lower().replace('\\n',' ').replace('\\r','').strip()\n",
        "    text = re.sub(' +', ' ', text)\n",
        "    text = re.sub(r'[^\\w\\s]','',text)  \n",
        "    stop_words = set(stopwords.words('english')) \n",
        "    word_tokens = word_tokenize(text) \n",
        "    filtered_sentence = [w for w in word_tokens if not w in stop_words] \n",
        "    text = \" \".join(filtered_sentence)\n",
        "    return text"
      ],
      "metadata": {
        "id": "1MmhGsbUiNRQ"
      },
      "execution_count": null,
      "outputs": []
    },
    {
      "cell_type": "code",
      "source": [
        "df['Text_processed'] = df['text_all'].apply(process_text)\n",
        "df.head()"
      ],
      "metadata": {
        "id": "Iecq_bwuiP3c",
        "colab": {
          "base_uri": "https://localhost:8080/",
          "height": 206
        },
        "outputId": "30621bb1-7c53-4016-83f6-7aca5c2fb1d0"
      },
      "execution_count": 28,
      "outputs": [
        {
          "output_type": "execute_result",
          "data": {
            "text/plain": [
              "    category                                           text_all  \\\n",
              "0      MEDIA  HuffPost's DC Chief Responds To Obama's Warnin...   \n",
              "1   RELIGION            Sexism: The Original Sin Of The Church    \n",
              "2  GOOD NEWS  Banksy Exhibit Inspires Ex-Drug Addict To Chan...   \n",
              "3       ARTS                                Spirit of the Hawk    \n",
              "4     COMEDY  The Surprising Use for Big Lots Reward Cards D...   \n",
              "\n",
              "                                      Text_processed  \n",
              "0  huffposts dc chief responds obamas warning rea...  \n",
              "1                         sexism original sin church  \n",
              "2  banksy exhibit inspires exdrug addict change l...  \n",
              "3                                        spirit hawk  \n",
              "4  surprising use big lots reward cards dear husb...  "
            ],
            "text/html": [
              "\n",
              "  <div id=\"df-0f92ad4a-7064-4ffb-8bf3-675ae1f8cdcb\">\n",
              "    <div class=\"colab-df-container\">\n",
              "      <div>\n",
              "<style scoped>\n",
              "    .dataframe tbody tr th:only-of-type {\n",
              "        vertical-align: middle;\n",
              "    }\n",
              "\n",
              "    .dataframe tbody tr th {\n",
              "        vertical-align: top;\n",
              "    }\n",
              "\n",
              "    .dataframe thead th {\n",
              "        text-align: right;\n",
              "    }\n",
              "</style>\n",
              "<table border=\"1\" class=\"dataframe\">\n",
              "  <thead>\n",
              "    <tr style=\"text-align: right;\">\n",
              "      <th></th>\n",
              "      <th>category</th>\n",
              "      <th>text_all</th>\n",
              "      <th>Text_processed</th>\n",
              "    </tr>\n",
              "  </thead>\n",
              "  <tbody>\n",
              "    <tr>\n",
              "      <th>0</th>\n",
              "      <td>MEDIA</td>\n",
              "      <td>HuffPost's DC Chief Responds To Obama's Warnin...</td>\n",
              "      <td>huffposts dc chief responds obamas warning rea...</td>\n",
              "    </tr>\n",
              "    <tr>\n",
              "      <th>1</th>\n",
              "      <td>RELIGION</td>\n",
              "      <td>Sexism: The Original Sin Of The Church</td>\n",
              "      <td>sexism original sin church</td>\n",
              "    </tr>\n",
              "    <tr>\n",
              "      <th>2</th>\n",
              "      <td>GOOD NEWS</td>\n",
              "      <td>Banksy Exhibit Inspires Ex-Drug Addict To Chan...</td>\n",
              "      <td>banksy exhibit inspires exdrug addict change l...</td>\n",
              "    </tr>\n",
              "    <tr>\n",
              "      <th>3</th>\n",
              "      <td>ARTS</td>\n",
              "      <td>Spirit of the Hawk</td>\n",
              "      <td>spirit hawk</td>\n",
              "    </tr>\n",
              "    <tr>\n",
              "      <th>4</th>\n",
              "      <td>COMEDY</td>\n",
              "      <td>The Surprising Use for Big Lots Reward Cards D...</td>\n",
              "      <td>surprising use big lots reward cards dear husb...</td>\n",
              "    </tr>\n",
              "  </tbody>\n",
              "</table>\n",
              "</div>\n",
              "      <button class=\"colab-df-convert\" onclick=\"convertToInteractive('df-0f92ad4a-7064-4ffb-8bf3-675ae1f8cdcb')\"\n",
              "              title=\"Convert this dataframe to an interactive table.\"\n",
              "              style=\"display:none;\">\n",
              "        \n",
              "  <svg xmlns=\"http://www.w3.org/2000/svg\" height=\"24px\"viewBox=\"0 0 24 24\"\n",
              "       width=\"24px\">\n",
              "    <path d=\"M0 0h24v24H0V0z\" fill=\"none\"/>\n",
              "    <path d=\"M18.56 5.44l.94 2.06.94-2.06 2.06-.94-2.06-.94-.94-2.06-.94 2.06-2.06.94zm-11 1L8.5 8.5l.94-2.06 2.06-.94-2.06-.94L8.5 2.5l-.94 2.06-2.06.94zm10 10l.94 2.06.94-2.06 2.06-.94-2.06-.94-.94-2.06-.94 2.06-2.06.94z\"/><path d=\"M17.41 7.96l-1.37-1.37c-.4-.4-.92-.59-1.43-.59-.52 0-1.04.2-1.43.59L10.3 9.45l-7.72 7.72c-.78.78-.78 2.05 0 2.83L4 21.41c.39.39.9.59 1.41.59.51 0 1.02-.2 1.41-.59l7.78-7.78 2.81-2.81c.8-.78.8-2.07 0-2.86zM5.41 20L4 18.59l7.72-7.72 1.47 1.35L5.41 20z\"/>\n",
              "  </svg>\n",
              "      </button>\n",
              "      \n",
              "  <style>\n",
              "    .colab-df-container {\n",
              "      display:flex;\n",
              "      flex-wrap:wrap;\n",
              "      gap: 12px;\n",
              "    }\n",
              "\n",
              "    .colab-df-convert {\n",
              "      background-color: #E8F0FE;\n",
              "      border: none;\n",
              "      border-radius: 50%;\n",
              "      cursor: pointer;\n",
              "      display: none;\n",
              "      fill: #1967D2;\n",
              "      height: 32px;\n",
              "      padding: 0 0 0 0;\n",
              "      width: 32px;\n",
              "    }\n",
              "\n",
              "    .colab-df-convert:hover {\n",
              "      background-color: #E2EBFA;\n",
              "      box-shadow: 0px 1px 2px rgba(60, 64, 67, 0.3), 0px 1px 3px 1px rgba(60, 64, 67, 0.15);\n",
              "      fill: #174EA6;\n",
              "    }\n",
              "\n",
              "    [theme=dark] .colab-df-convert {\n",
              "      background-color: #3B4455;\n",
              "      fill: #D2E3FC;\n",
              "    }\n",
              "\n",
              "    [theme=dark] .colab-df-convert:hover {\n",
              "      background-color: #434B5C;\n",
              "      box-shadow: 0px 1px 3px 1px rgba(0, 0, 0, 0.15);\n",
              "      filter: drop-shadow(0px 1px 2px rgba(0, 0, 0, 0.3));\n",
              "      fill: #FFFFFF;\n",
              "    }\n",
              "  </style>\n",
              "\n",
              "      <script>\n",
              "        const buttonEl =\n",
              "          document.querySelector('#df-0f92ad4a-7064-4ffb-8bf3-675ae1f8cdcb button.colab-df-convert');\n",
              "        buttonEl.style.display =\n",
              "          google.colab.kernel.accessAllowed ? 'block' : 'none';\n",
              "\n",
              "        async function convertToInteractive(key) {\n",
              "          const element = document.querySelector('#df-0f92ad4a-7064-4ffb-8bf3-675ae1f8cdcb');\n",
              "          const dataTable =\n",
              "            await google.colab.kernel.invokeFunction('convertToInteractive',\n",
              "                                                     [key], {});\n",
              "          if (!dataTable) return;\n",
              "\n",
              "          const docLinkHtml = 'Like what you see? Visit the ' +\n",
              "            '<a target=\"_blank\" href=https://colab.research.google.com/notebooks/data_table.ipynb>data table notebook</a>'\n",
              "            + ' to learn more about interactive tables.';\n",
              "          element.innerHTML = '';\n",
              "          dataTable['output_type'] = 'display_data';\n",
              "          await google.colab.output.renderOutput(dataTable, element);\n",
              "          const docLink = document.createElement('div');\n",
              "          docLink.innerHTML = docLinkHtml;\n",
              "          element.appendChild(docLink);\n",
              "        }\n",
              "      </script>\n",
              "    </div>\n",
              "  </div>\n",
              "  "
            ]
          },
          "metadata": {},
          "execution_count": 28
        }
      ]
    },
    {
      "cell_type": "markdown",
      "source": [
        "## Label Encoding the Target Variable \n",
        "In order to convert the target variable into 'int' data types, we can perform one hot encoding, label encoding etc. The reason of choosing it is that label encoding is computationally efficient and takes less time than one hot encoding."
      ],
      "metadata": {
        "id": "uHfp9Ue8bTvd"
      }
    },
    {
      "cell_type": "code",
      "source": [
        "from sklearn import preprocessing \n",
        "label_encoder = preprocessing.LabelEncoder() \n",
        "df['Category_encoded']= label_encoder.fit_transform(df['category']) \n",
        "df.head()"
      ],
      "metadata": {
        "id": "kbvT3eqql1yU",
        "colab": {
          "base_uri": "https://localhost:8080/",
          "height": 250
        },
        "outputId": "b4a4b8dd-e697-4c3d-c3a7-b0d420886757"
      },
      "execution_count": 29,
      "outputs": [
        {
          "output_type": "execute_result",
          "data": {
            "text/plain": [
              "    category                                           text_all  \\\n",
              "0      MEDIA  HuffPost's DC Chief Responds To Obama's Warnin...   \n",
              "1   RELIGION            Sexism: The Original Sin Of The Church    \n",
              "2  GOOD NEWS  Banksy Exhibit Inspires Ex-Drug Addict To Chan...   \n",
              "3       ARTS                                Spirit of the Hawk    \n",
              "4     COMEDY  The Surprising Use for Big Lots Reward Cards D...   \n",
              "\n",
              "                                      Text_processed  Category_encoded  \n",
              "0  huffposts dc chief responds obamas warning rea...                14  \n",
              "1                         sexism original sin church                18  \n",
              "2  banksy exhibit inspires exdrug addict change l...                 9  \n",
              "3                                        spirit hawk                 0  \n",
              "4  surprising use big lots reward cards dear husb...                 4  "
            ],
            "text/html": [
              "\n",
              "  <div id=\"df-ef081133-2a45-47e9-b78e-298b77279880\">\n",
              "    <div class=\"colab-df-container\">\n",
              "      <div>\n",
              "<style scoped>\n",
              "    .dataframe tbody tr th:only-of-type {\n",
              "        vertical-align: middle;\n",
              "    }\n",
              "\n",
              "    .dataframe tbody tr th {\n",
              "        vertical-align: top;\n",
              "    }\n",
              "\n",
              "    .dataframe thead th {\n",
              "        text-align: right;\n",
              "    }\n",
              "</style>\n",
              "<table border=\"1\" class=\"dataframe\">\n",
              "  <thead>\n",
              "    <tr style=\"text-align: right;\">\n",
              "      <th></th>\n",
              "      <th>category</th>\n",
              "      <th>text_all</th>\n",
              "      <th>Text_processed</th>\n",
              "      <th>Category_encoded</th>\n",
              "    </tr>\n",
              "  </thead>\n",
              "  <tbody>\n",
              "    <tr>\n",
              "      <th>0</th>\n",
              "      <td>MEDIA</td>\n",
              "      <td>HuffPost's DC Chief Responds To Obama's Warnin...</td>\n",
              "      <td>huffposts dc chief responds obamas warning rea...</td>\n",
              "      <td>14</td>\n",
              "    </tr>\n",
              "    <tr>\n",
              "      <th>1</th>\n",
              "      <td>RELIGION</td>\n",
              "      <td>Sexism: The Original Sin Of The Church</td>\n",
              "      <td>sexism original sin church</td>\n",
              "      <td>18</td>\n",
              "    </tr>\n",
              "    <tr>\n",
              "      <th>2</th>\n",
              "      <td>GOOD NEWS</td>\n",
              "      <td>Banksy Exhibit Inspires Ex-Drug Addict To Chan...</td>\n",
              "      <td>banksy exhibit inspires exdrug addict change l...</td>\n",
              "      <td>9</td>\n",
              "    </tr>\n",
              "    <tr>\n",
              "      <th>3</th>\n",
              "      <td>ARTS</td>\n",
              "      <td>Spirit of the Hawk</td>\n",
              "      <td>spirit hawk</td>\n",
              "      <td>0</td>\n",
              "    </tr>\n",
              "    <tr>\n",
              "      <th>4</th>\n",
              "      <td>COMEDY</td>\n",
              "      <td>The Surprising Use for Big Lots Reward Cards D...</td>\n",
              "      <td>surprising use big lots reward cards dear husb...</td>\n",
              "      <td>4</td>\n",
              "    </tr>\n",
              "  </tbody>\n",
              "</table>\n",
              "</div>\n",
              "      <button class=\"colab-df-convert\" onclick=\"convertToInteractive('df-ef081133-2a45-47e9-b78e-298b77279880')\"\n",
              "              title=\"Convert this dataframe to an interactive table.\"\n",
              "              style=\"display:none;\">\n",
              "        \n",
              "  <svg xmlns=\"http://www.w3.org/2000/svg\" height=\"24px\"viewBox=\"0 0 24 24\"\n",
              "       width=\"24px\">\n",
              "    <path d=\"M0 0h24v24H0V0z\" fill=\"none\"/>\n",
              "    <path d=\"M18.56 5.44l.94 2.06.94-2.06 2.06-.94-2.06-.94-.94-2.06-.94 2.06-2.06.94zm-11 1L8.5 8.5l.94-2.06 2.06-.94-2.06-.94L8.5 2.5l-.94 2.06-2.06.94zm10 10l.94 2.06.94-2.06 2.06-.94-2.06-.94-.94-2.06-.94 2.06-2.06.94z\"/><path d=\"M17.41 7.96l-1.37-1.37c-.4-.4-.92-.59-1.43-.59-.52 0-1.04.2-1.43.59L10.3 9.45l-7.72 7.72c-.78.78-.78 2.05 0 2.83L4 21.41c.39.39.9.59 1.41.59.51 0 1.02-.2 1.41-.59l7.78-7.78 2.81-2.81c.8-.78.8-2.07 0-2.86zM5.41 20L4 18.59l7.72-7.72 1.47 1.35L5.41 20z\"/>\n",
              "  </svg>\n",
              "      </button>\n",
              "      \n",
              "  <style>\n",
              "    .colab-df-container {\n",
              "      display:flex;\n",
              "      flex-wrap:wrap;\n",
              "      gap: 12px;\n",
              "    }\n",
              "\n",
              "    .colab-df-convert {\n",
              "      background-color: #E8F0FE;\n",
              "      border: none;\n",
              "      border-radius: 50%;\n",
              "      cursor: pointer;\n",
              "      display: none;\n",
              "      fill: #1967D2;\n",
              "      height: 32px;\n",
              "      padding: 0 0 0 0;\n",
              "      width: 32px;\n",
              "    }\n",
              "\n",
              "    .colab-df-convert:hover {\n",
              "      background-color: #E2EBFA;\n",
              "      box-shadow: 0px 1px 2px rgba(60, 64, 67, 0.3), 0px 1px 3px 1px rgba(60, 64, 67, 0.15);\n",
              "      fill: #174EA6;\n",
              "    }\n",
              "\n",
              "    [theme=dark] .colab-df-convert {\n",
              "      background-color: #3B4455;\n",
              "      fill: #D2E3FC;\n",
              "    }\n",
              "\n",
              "    [theme=dark] .colab-df-convert:hover {\n",
              "      background-color: #434B5C;\n",
              "      box-shadow: 0px 1px 3px 1px rgba(0, 0, 0, 0.15);\n",
              "      filter: drop-shadow(0px 1px 2px rgba(0, 0, 0, 0.3));\n",
              "      fill: #FFFFFF;\n",
              "    }\n",
              "  </style>\n",
              "\n",
              "      <script>\n",
              "        const buttonEl =\n",
              "          document.querySelector('#df-ef081133-2a45-47e9-b78e-298b77279880 button.colab-df-convert');\n",
              "        buttonEl.style.display =\n",
              "          google.colab.kernel.accessAllowed ? 'block' : 'none';\n",
              "\n",
              "        async function convertToInteractive(key) {\n",
              "          const element = document.querySelector('#df-ef081133-2a45-47e9-b78e-298b77279880');\n",
              "          const dataTable =\n",
              "            await google.colab.kernel.invokeFunction('convertToInteractive',\n",
              "                                                     [key], {});\n",
              "          if (!dataTable) return;\n",
              "\n",
              "          const docLinkHtml = 'Like what you see? Visit the ' +\n",
              "            '<a target=\"_blank\" href=https://colab.research.google.com/notebooks/data_table.ipynb>data table notebook</a>'\n",
              "            + ' to learn more about interactive tables.';\n",
              "          element.innerHTML = '';\n",
              "          dataTable['output_type'] = 'display_data';\n",
              "          await google.colab.output.renderOutput(dataTable, element);\n",
              "          const docLink = document.createElement('div');\n",
              "          docLink.innerHTML = docLinkHtml;\n",
              "          element.appendChild(docLink);\n",
              "        }\n",
              "      </script>\n",
              "    </div>\n",
              "  </div>\n",
              "  "
            ]
          },
          "metadata": {},
          "execution_count": 29
        }
      ]
    },
    {
      "cell_type": "code",
      "source": [
        "df.to_csv('Dataset/cleaned_data.csv') # Saving the cleaned dataset."
      ],
      "metadata": {
        "id": "Rcm2I3Dzbg3H"
      },
      "execution_count": 30,
      "outputs": []
    },
    {
      "cell_type": "markdown",
      "source": [
        "### Word Embedding Technique:\n",
        "Now converting text into numbers using TF-IDF method. There are many parameters that we havent specified just to make our analysis open and tune them later if needed."
      ],
      "metadata": {
        "id": "qtZ12dIzBDpd"
      }
    },
    {
      "cell_type": "code",
      "source": [
        "X=df.Text_processed\n",
        "Y=df.Category_encoded\n",
        "X.dtype,Y.dtype"
      ],
      "metadata": {
        "colab": {
          "base_uri": "https://localhost:8080/"
        },
        "id": "EqoG4YyqcVsH",
        "outputId": "ce3918db-9611-4dd7-fd9b-56354b458286"
      },
      "execution_count": 38,
      "outputs": [
        {
          "output_type": "execute_result",
          "data": {
            "text/plain": [
              "(dtype('int64'), dtype('O'))"
            ]
          },
          "metadata": {},
          "execution_count": 38
        }
      ]
    },
    {
      "cell_type": "code",
      "source": [
        "tf_vec = TfidfVectorizer()\n",
        "X_features = tf_vec.fit(X)\n",
        "X_features = tf_vec.transform(X)\n",
        "print(X_features[0:10][0:10])"
      ],
      "metadata": {
        "id": "mpdrMEsDFTVz",
        "colab": {
          "base_uri": "https://localhost:8080/"
        },
        "outputId": "506da36c-a386-410a-89c1-37409dba7913"
      },
      "execution_count": 44,
      "outputs": [
        {
          "output_type": "stream",
          "name": "stdout",
          "text": [
            "  (0, 36333)\t0.35134548891466166\n",
            "  (0, 30736)\t0.3613931925157065\n",
            "  (0, 28233)\t0.37601402624939084\n",
            "  (0, 27314)\t0.2947810131268943\n",
            "  (0, 23281)\t0.3022258395071549\n",
            "  (0, 16286)\t0.44387311312928873\n",
            "  (0, 8837)\t0.3411900847178391\n",
            "  (0, 6364)\t0.335997681021119\n",
            "  (1, 30661)\t0.5417042343328496\n",
            "  (1, 30112)\t0.5305609384441003\n",
            "  (1, 23818)\t0.4909477264117526\n",
            "  (1, 6523)\t0.428989443966058\n",
            "  (2, 19502)\t0.18282503386729568\n",
            "  (2, 17281)\t0.3750619692129353\n",
            "  (2, 11985)\t0.3750619692129353\n",
            "  (2, 11947)\t0.46841985149538745\n",
            "  (2, 6127)\t0.21294745785816482\n",
            "  (2, 3381)\t0.43730055740123674\n",
            "  (2, 2617)\t0.2534822917745222\n",
            "  (2, 1214)\t0.40618126330708604\n",
            "  (3, 31622)\t0.5973078106231994\n",
            "  (3, 15421)\t0.8020120818095698\n",
            "  (4, 35572)\t0.15891533343786776\n",
            "  (4, 32772)\t0.19794423698823702\n",
            "  (4, 30908)\t0.4970484269703846\n",
            "  :\t:\n",
            "  (9, 35782)\t0.343883416103843\n",
            "  (9, 34836)\t0.17605253730839646\n",
            "  (9, 33108)\t0.12335470924981977\n",
            "  (9, 33096)\t0.1016599016957629\n",
            "  (9, 32630)\t0.1448534749186033\n",
            "  (9, 31574)\t0.2935964369876087\n",
            "  (9, 29730)\t0.10455852487971856\n",
            "  (9, 28694)\t0.2991768481713628\n",
            "  (9, 28489)\t0.1489363607376988\n",
            "  (9, 20111)\t0.19466420602288553\n",
            "  (9, 20109)\t0.22449233067594526\n",
            "  (9, 19722)\t0.11246158341618245\n",
            "  (9, 19168)\t0.22449233067594526\n",
            "  (9, 19166)\t0.22449233067594526\n",
            "  (9, 19031)\t0.18113878315663628\n",
            "  (9, 17247)\t0.2706936107075037\n",
            "  (9, 15078)\t0.14119785184885786\n",
            "  (9, 15015)\t0.1473877469809496\n",
            "  (9, 14296)\t0.1921299339605392\n",
            "  (9, 12065)\t0.16057957488958433\n",
            "  (9, 11932)\t0.1648360813698258\n",
            "  (9, 9703)\t0.2095782683494154\n",
            "  (9, 3948)\t0.10556141446599655\n",
            "  (9, 2902)\t0.18262326439568777\n",
            "  (9, 360)\t0.12685153865596796\n"
          ]
        }
      ]
    },
    {
      "cell_type": "markdown",
      "source": [
        "# Part 3: Model Building and Evaluation"
      ],
      "metadata": {
        "id": "EyPDQQ_VbsTK"
      }
    },
    {
      "cell_type": "code",
      "source": [
        "x_train, x_test, y_train, y_test = train_test_split(X_features, \n",
        "                                                    df['Category_encoded'], \n",
        "                                                    test_size=0.25, \n",
        "                                                    random_state=8)"
      ],
      "metadata": {
        "id": "O2kphOVvlsnz"
      },
      "execution_count": 50,
      "outputs": []
    },
    {
      "cell_type": "markdown",
      "source": [
        "We used the following script from [(https://github.com/nadaalay/News-Articles-Categorization)]. There is a general fucntion which takes multiple models to fit the training data and then make some predictions."
      ],
      "metadata": {
        "id": "slbEi6Cf-cMW"
      }
    },
    {
      "cell_type": "code",
      "source": [
        "def fit_eval_model(model, train_features, y_train, test_features, y_test):\n",
        "    \n",
        "    \"\"\"\n",
        "    Function: train and evaluate a machine learning classifier.\n",
        "    Args:\n",
        "      model: machine learning classifier\n",
        "      train_features: train data extracted features\n",
        "      y_train: train data lables\n",
        "      test_features: train data extracted features\n",
        "      y_test: train data lables\n",
        "    Return:\n",
        "      results(dictionary): a dictionary of the model training time and classification report\n",
        "    \"\"\"\n",
        "    results ={}\n",
        "    \n",
        "    # Start time\n",
        "    start = time.time()\n",
        "    # Train the model\n",
        "    model.fit(train_features, y_train)\n",
        "    # End time\n",
        "    end = time.time()\n",
        "    # Calculate the training time\n",
        "    results['train_time'] = end - start\n",
        "    \n",
        "    # Test the model\n",
        "    train_predicted = model.predict(train_features)\n",
        "    test_predicted = model.predict(test_features)\n",
        "    \n",
        "     # Classification report\n",
        "    results['classification_report'] = classification_report(y_test, test_predicted)\n",
        "        \n",
        "    return results"
      ],
      "metadata": {
        "id": "AX78nX-gmDF_"
      },
      "execution_count": 52,
      "outputs": []
    },
    {
      "cell_type": "code",
      "source": [
        "sv = svm.SVC()\n",
        "ab = AdaBoostClassifier(random_state = 1)\n",
        "gb = GradientBoostingClassifier(random_state = 1)\n",
        "xgb = xgboost.XGBClassifier(random_state = 1)\n",
        "tree = DecisionTreeClassifier()\n",
        "nb = MultinomialNB()\n",
        "\n",
        "\n",
        "# Fit and evaluate models\n",
        "results = {}\n",
        "for cls in [sv, ab, gb, xgb, tree, nb]:\n",
        "    cls_name = cls.__class__.__name__\n",
        "    results[cls_name] = {}\n",
        "    results[cls_name] = fit_eval_model(cls, x_train, y_train, x_test, y_test)"
      ],
      "metadata": {
        "id": "0sBAxT8NF2BX"
      },
      "execution_count": null,
      "outputs": []
    },
    {
      "cell_type": "code",
      "source": [
        "for res in results:\n",
        "    print (res)\n",
        "    print()\n",
        "    for i in results[res]:\n",
        "        print (i, ':')\n",
        "        print(results[res][i])\n",
        "        print()\n",
        "    print ('-----')\n",
        "    print()\n"
      ],
      "metadata": {
        "colab": {
          "base_uri": "https://localhost:8080/"
        },
        "id": "Z9tO8gz8F4WY",
        "outputId": "f17abb81-4b26-4096-a2f1-2593effe772b"
      },
      "execution_count": 76,
      "outputs": [
        {
          "output_type": "stream",
          "name": "stdout",
          "text": [
            "SVC\n",
            "\n",
            "train_time :\n",
            "167.99007868766785\n",
            "\n",
            "classification_report :\n",
            "              precision    recall  f1-score   support\n",
            "\n",
            "           0       0.70      0.25      0.37       201\n",
            "           1       0.59      0.11      0.19       117\n",
            "           2       0.70      0.38      0.49       405\n",
            "           3       0.60      0.30      0.40       100\n",
            "           4       0.71      0.10      0.17       153\n",
            "           5       0.63      0.27      0.38       141\n",
            "           6       0.64      0.25      0.36       112\n",
            "           7       0.39      0.82      0.53       535\n",
            "           8       0.74      0.14      0.23       185\n",
            "           9       1.00      0.01      0.02        87\n",
            "          10       0.67      0.34      0.45       214\n",
            "          11       0.36      0.79      0.49       537\n",
            "          12       0.52      0.16      0.24       272\n",
            "          13       0.00      0.00      0.00        40\n",
            "          14       0.74      0.21      0.33       119\n",
            "          15       0.57      0.48      0.52       265\n",
            "          16       0.34      0.86      0.49       876\n",
            "          17       0.88      0.41      0.56       220\n",
            "          18       0.90      0.29      0.44       266\n",
            "          19       0.67      0.06      0.12        95\n",
            "          20       0.68      0.38      0.48       207\n",
            "          21       0.76      0.22      0.35       156\n",
            "          22       0.85      0.24      0.37       148\n",
            "          23       0.84      0.37      0.52       175\n",
            "          24       0.75      0.04      0.07        79\n",
            "          25       0.47      0.23      0.31       200\n",
            "          26       0.64      0.34      0.45       345\n",
            "\n",
            "    accuracy                           0.45      6250\n",
            "   macro avg       0.64      0.30      0.35      6250\n",
            "weighted avg       0.59      0.45      0.41      6250\n",
            "\n",
            "\n",
            "-----\n",
            "\n",
            "AdaBoostClassifier\n",
            "\n",
            "train_time :\n",
            "26.42566990852356\n",
            "\n",
            "classification_report :\n",
            "              precision    recall  f1-score   support\n",
            "\n",
            "           0       0.51      0.18      0.27       201\n",
            "           1       0.40      0.21      0.27       117\n",
            "           2       1.00      0.00      0.00       405\n",
            "           3       0.39      0.43      0.41       100\n",
            "           4       0.00      0.00      0.00       153\n",
            "           5       0.40      0.22      0.28       141\n",
            "           6       0.50      0.45      0.47       112\n",
            "           7       0.00      0.00      0.00       535\n",
            "           8       0.55      0.06      0.11       185\n",
            "           9       0.00      0.00      0.00        87\n",
            "          10       0.65      0.15      0.24       214\n",
            "          11       0.20      0.01      0.01       537\n",
            "          12       0.27      0.01      0.02       272\n",
            "          13       0.41      0.17      0.25        40\n",
            "          14       0.50      0.19      0.28       119\n",
            "          15       0.35      0.29      0.32       265\n",
            "          16       0.15      0.87      0.26       876\n",
            "          17       0.85      0.48      0.61       220\n",
            "          18       0.89      0.06      0.11       266\n",
            "          19       0.43      0.06      0.11        95\n",
            "          20       0.55      0.12      0.19       207\n",
            "          21       0.53      0.10      0.17       156\n",
            "          22       0.88      0.05      0.09       148\n",
            "          23       0.71      0.11      0.20       175\n",
            "          24       0.24      0.15      0.19        79\n",
            "          25       0.33      0.26      0.29       200\n",
            "          26       0.50      0.00      0.01       345\n",
            "\n",
            "    accuracy                           0.22      6250\n",
            "   macro avg       0.45      0.17      0.19      6250\n",
            "weighted avg       0.42      0.22      0.16      6250\n",
            "\n",
            "\n",
            "-----\n",
            "\n",
            "GradientBoostingClassifier\n",
            "\n",
            "train_time :\n",
            "1326.5617010593414\n",
            "\n",
            "classification_report :\n",
            "              precision    recall  f1-score   support\n",
            "\n",
            "           0       0.63      0.42      0.50       201\n",
            "           1       0.31      0.21      0.25       117\n",
            "           2       0.57      0.37      0.45       405\n",
            "           3       0.41      0.44      0.43       100\n",
            "           4       0.30      0.22      0.25       153\n",
            "           5       0.40      0.30      0.35       141\n",
            "           6       0.44      0.33      0.38       112\n",
            "           7       0.59      0.39      0.47       535\n",
            "           8       0.48      0.28      0.35       185\n",
            "           9       0.20      0.11      0.15        87\n",
            "          10       0.60      0.41      0.48       214\n",
            "          11       0.48      0.48      0.48       537\n",
            "          12       0.45      0.19      0.27       272\n",
            "          13       0.20      0.12      0.15        40\n",
            "          14       0.44      0.39      0.41       119\n",
            "          15       0.49      0.49      0.49       265\n",
            "          16       0.27      0.73      0.39       876\n",
            "          17       0.81      0.59      0.68       220\n",
            "          18       0.72      0.45      0.55       266\n",
            "          19       0.43      0.27      0.34        95\n",
            "          20       0.63      0.48      0.54       207\n",
            "          21       0.55      0.40      0.46       156\n",
            "          22       0.60      0.42      0.49       148\n",
            "          23       0.52      0.41      0.46       175\n",
            "          24       0.21      0.10      0.14        79\n",
            "          25       0.39      0.28      0.33       200\n",
            "          26       0.59      0.33      0.42       345\n",
            "\n",
            "    accuracy                           0.42      6250\n",
            "   macro avg       0.47      0.36      0.39      6250\n",
            "weighted avg       0.49      0.42      0.43      6250\n",
            "\n",
            "\n",
            "-----\n",
            "\n",
            "XGBClassifier\n",
            "\n",
            "train_time :\n",
            "165.59685468673706\n",
            "\n",
            "classification_report :\n",
            "              precision    recall  f1-score   support\n",
            "\n",
            "           0       0.67      0.38      0.48       201\n",
            "           1       0.33      0.19      0.24       117\n",
            "           2       0.57      0.33      0.42       405\n",
            "           3       0.49      0.48      0.48       100\n",
            "           4       0.57      0.15      0.24       153\n",
            "           5       0.49      0.32      0.39       141\n",
            "           6       0.59      0.46      0.52       112\n",
            "           7       0.58      0.39      0.46       535\n",
            "           8       0.58      0.28      0.38       185\n",
            "           9       0.44      0.08      0.14        87\n",
            "          10       0.61      0.36      0.46       214\n",
            "          11       0.47      0.49      0.48       537\n",
            "          12       0.44      0.19      0.27       272\n",
            "          13       0.50      0.10      0.17        40\n",
            "          14       0.49      0.32      0.39       119\n",
            "          15       0.51      0.51      0.51       265\n",
            "          16       0.24      0.78      0.37       876\n",
            "          17       0.88      0.52      0.66       220\n",
            "          18       0.68      0.41      0.51       266\n",
            "          19       0.56      0.20      0.29        95\n",
            "          20       0.60      0.38      0.46       207\n",
            "          21       0.56      0.29      0.38       156\n",
            "          22       0.73      0.38      0.50       148\n",
            "          23       0.64      0.39      0.48       175\n",
            "          24       0.19      0.10      0.13        79\n",
            "          25       0.42      0.29      0.34       200\n",
            "          26       0.60      0.29      0.39       345\n",
            "\n",
            "    accuracy                           0.41      6250\n",
            "   macro avg       0.53      0.33      0.39      6250\n",
            "weighted avg       0.52      0.41      0.42      6250\n",
            "\n",
            "\n",
            "-----\n",
            "\n",
            "DecisionTreeClassifier\n",
            "\n",
            "train_time :\n",
            "19.743703842163086\n",
            "\n",
            "classification_report :\n",
            "              precision    recall  f1-score   support\n",
            "\n",
            "           0       0.36      0.33      0.35       201\n",
            "           1       0.35      0.26      0.30       117\n",
            "           2       0.25      0.39      0.31       405\n",
            "           3       0.37      0.31      0.34       100\n",
            "           4       0.20      0.15      0.17       153\n",
            "           5       0.27      0.26      0.26       141\n",
            "           6       0.33      0.15      0.21       112\n",
            "           7       0.41      0.46      0.43       535\n",
            "           8       0.23      0.21      0.22       185\n",
            "           9       0.16      0.11      0.13        87\n",
            "          10       0.34      0.33      0.33       214\n",
            "          11       0.33      0.39      0.36       537\n",
            "          12       0.12      0.09      0.11       272\n",
            "          13       0.17      0.10      0.12        40\n",
            "          14       0.34      0.24      0.28       119\n",
            "          15       0.35      0.45      0.39       265\n",
            "          16       0.52      0.58      0.55       876\n",
            "          17       0.59      0.50      0.54       220\n",
            "          18       0.53      0.36      0.43       266\n",
            "          19       0.25      0.20      0.22        95\n",
            "          20       0.45      0.42      0.43       207\n",
            "          21       0.29      0.31      0.30       156\n",
            "          22       0.39      0.33      0.36       148\n",
            "          23       0.32      0.35      0.34       175\n",
            "          24       0.16      0.14      0.15        79\n",
            "          25       0.23      0.23      0.23       200\n",
            "          26       0.36      0.34      0.35       345\n",
            "\n",
            "    accuracy                           0.36      6250\n",
            "   macro avg       0.32      0.30      0.30      6250\n",
            "weighted avg       0.36      0.36      0.36      6250\n",
            "\n",
            "\n",
            "-----\n",
            "\n",
            "MultinomialNB\n",
            "\n",
            "train_time :\n",
            "0.05674290657043457\n",
            "\n",
            "classification_report :\n",
            "              precision    recall  f1-score   support\n",
            "\n",
            "           0       0.89      0.04      0.08       201\n",
            "           1       0.00      0.00      0.00       117\n",
            "           2       0.90      0.12      0.21       405\n",
            "           3       0.00      0.00      0.00       100\n",
            "           4       0.00      0.00      0.00       153\n",
            "           5       1.00      0.02      0.04       141\n",
            "           6       0.00      0.00      0.00       112\n",
            "           7       0.50      0.61      0.55       535\n",
            "           8       0.00      0.00      0.00       185\n",
            "           9       0.00      0.00      0.00        87\n",
            "          10       1.00      0.04      0.07       214\n",
            "          11       0.28      0.79      0.41       537\n",
            "          12       0.67      0.01      0.01       272\n",
            "          13       0.00      0.00      0.00        40\n",
            "          14       0.00      0.00      0.00       119\n",
            "          15       0.73      0.06      0.11       265\n",
            "          16       0.22      0.99      0.36       876\n",
            "          17       0.92      0.05      0.10       220\n",
            "          18       1.00      0.04      0.07       266\n",
            "          19       0.00      0.00      0.00        95\n",
            "          20       1.00      0.06      0.12       207\n",
            "          21       0.00      0.00      0.00       156\n",
            "          22       1.00      0.01      0.03       148\n",
            "          23       0.93      0.08      0.15       175\n",
            "          24       0.00      0.00      0.00        79\n",
            "          25       1.00      0.04      0.07       200\n",
            "          26       0.84      0.08      0.14       345\n",
            "\n",
            "    accuracy                           0.29      6250\n",
            "   macro avg       0.48      0.11      0.09      6250\n",
            "weighted avg       0.54      0.29      0.18      6250\n",
            "\n",
            "\n",
            "-----\n",
            "\n"
          ]
        }
      ]
    },
    {
      "cell_type": "markdown",
      "source": [
        "# Results Analysis:\n",
        "As discussed earlier, the conventional evaluation metrics fail in evaluating the imbalanced dataset classification. We can use precision and recall as a metric to to analyze the performance of our model.\n",
        "  Moreover we can see that certain models perform poorly such as DecisionTrees and RandomForest becuase these modles tend to give better result for major classes. While MultinomialNb and SVM perform better because they perfom better for minority classes. "
      ],
      "metadata": {
        "id": "3Xcb7hOvnk13"
      }
    },
    {
      "cell_type": "code",
      "source": [
        ""
      ],
      "metadata": {
        "id": "z-rKR3TKGlLM"
      },
      "execution_count": null,
      "outputs": []
    }
  ]
}